{
 "cells": [
  {
   "cell_type": "markdown",
   "metadata": {
    "colab_type": "text"
   },
   "source": [
    "This is a companion notebook for the book [Deep Learning with Python, Second Edition](https://www.manning.com/books/deep-learning-with-python-second-edition?a_aid=keras&a_bid=76564dff). For readability, it only contains runnable code blocks and section titles, and omits everything else in the book: text paragraphs, figures, and pseudocode.\n",
    "\n",
    "**If you want to be able to follow what's going on, I recommend reading the notebook side by side with your copy of the book.**\n",
    "\n",
    "This notebook was generated for TensorFlow 2.6."
   ]
  },
  {
   "cell_type": "markdown",
   "metadata": {
    "colab_type": "text"
   },
   "source": [
    "# Fundamentals of machine learning"
   ]
  },
  {
   "cell_type": "markdown",
   "metadata": {
    "colab_type": "text"
   },
   "source": [
    "## Generalization: The goal of machine learning"
   ]
  },
  {
   "cell_type": "markdown",
   "metadata": {
    "colab_type": "text"
   },
   "source": [
    "### Underfitting and overfitting"
   ]
  },
  {
   "cell_type": "markdown",
   "metadata": {
    "colab_type": "text"
   },
   "source": [
    "#### Noisy training data"
   ]
  },
  {
   "cell_type": "markdown",
   "metadata": {
    "colab_type": "text"
   },
   "source": [
    "#### Ambiguous features"
   ]
  },
  {
   "cell_type": "markdown",
   "metadata": {
    "colab_type": "text"
   },
   "source": [
    "#### Rare features and spurious correlations"
   ]
  },
  {
   "cell_type": "markdown",
   "metadata": {
    "colab_type": "text"
   },
   "source": [
    "**Adding white-noise channels or all-zeros channels to MNIST**"
   ]
  },
  {
   "cell_type": "code",
   "execution_count": 1,
   "metadata": {
    "colab_type": "code"
   },
   "outputs": [],
   "source": [
    "from tensorflow.keras.datasets import mnist\n",
    "import numpy as np\n",
    "\n",
    "(train_images, train_labels), _ = mnist.load_data()\n",
    "train_images = train_images.reshape((60000, 28 * 28))\n",
    "train_images = train_images.astype(\"float32\") / 255\n",
    "\n",
    "train_images_with_noise_channels = np.concatenate(\n",
    "    [train_images, np.random.random((len(train_images), 784))], axis=1)\n",
    "\n",
    "train_images_with_zeros_channels = np.concatenate(\n",
    "    [train_images, np.zeros((len(train_images), 784))], axis=1)"
   ]
  },
  {
   "cell_type": "markdown",
   "metadata": {
    "colab_type": "text"
   },
   "source": [
    "**Training the same model on MNIST data with noise channels or all-zero channels**"
   ]
  },
  {
   "cell_type": "code",
   "execution_count": 2,
   "metadata": {
    "colab_type": "code"
   },
   "outputs": [
    {
     "name": "stdout",
     "output_type": "stream",
     "text": [
      "Epoch 1/10\n",
      "375/375 [==============================] - 3s 5ms/step - loss: 0.6180 - accuracy: 0.8138 - val_loss: 0.2657 - val_accuracy: 0.9218\n",
      "Epoch 2/10\n",
      "375/375 [==============================] - 2s 4ms/step - loss: 0.2452 - accuracy: 0.9242 - val_loss: 0.1892 - val_accuracy: 0.9410\n",
      "Epoch 3/10\n",
      "375/375 [==============================] - 2s 4ms/step - loss: 0.1621 - accuracy: 0.9498 - val_loss: 0.1760 - val_accuracy: 0.9463\n",
      "Epoch 4/10\n",
      "375/375 [==============================] - 2s 4ms/step - loss: 0.1157 - accuracy: 0.9635 - val_loss: 0.1544 - val_accuracy: 0.9554\n",
      "Epoch 5/10\n",
      "375/375 [==============================] - 2s 4ms/step - loss: 0.0846 - accuracy: 0.9732 - val_loss: 0.2015 - val_accuracy: 0.9452\n",
      "Epoch 6/10\n",
      "375/375 [==============================] - 2s 4ms/step - loss: 0.0612 - accuracy: 0.9803 - val_loss: 0.1298 - val_accuracy: 0.9660\n",
      "Epoch 7/10\n",
      "375/375 [==============================] - 2s 4ms/step - loss: 0.0470 - accuracy: 0.9845 - val_loss: 0.1380 - val_accuracy: 0.9649\n",
      "Epoch 8/10\n",
      "375/375 [==============================] - 2s 4ms/step - loss: 0.0344 - accuracy: 0.9891 - val_loss: 0.1609 - val_accuracy: 0.9587\n",
      "Epoch 9/10\n",
      "375/375 [==============================] - 2s 4ms/step - loss: 0.0277 - accuracy: 0.9905 - val_loss: 0.1649 - val_accuracy: 0.9593\n",
      "Epoch 10/10\n",
      "375/375 [==============================] - 2s 4ms/step - loss: 0.0200 - accuracy: 0.9935 - val_loss: 0.1658 - val_accuracy: 0.9616\n",
      "Epoch 1/10\n",
      "375/375 [==============================] - 2s 5ms/step - loss: 0.2846 - accuracy: 0.9172 - val_loss: 0.1388 - val_accuracy: 0.9603\n",
      "Epoch 2/10\n",
      "375/375 [==============================] - 2s 4ms/step - loss: 0.1194 - accuracy: 0.9642 - val_loss: 0.1099 - val_accuracy: 0.9682\n",
      "Epoch 3/10\n",
      "375/375 [==============================] - 2s 4ms/step - loss: 0.0786 - accuracy: 0.9769 - val_loss: 0.0970 - val_accuracy: 0.9705\n",
      "Epoch 4/10\n",
      "375/375 [==============================] - 2s 4ms/step - loss: 0.0558 - accuracy: 0.9829 - val_loss: 0.0891 - val_accuracy: 0.9750\n",
      "Epoch 5/10\n",
      "375/375 [==============================] - 2s 4ms/step - loss: 0.0415 - accuracy: 0.9880 - val_loss: 0.0750 - val_accuracy: 0.9793\n",
      "Epoch 6/10\n",
      "375/375 [==============================] - 2s 4ms/step - loss: 0.0315 - accuracy: 0.9908 - val_loss: 0.0798 - val_accuracy: 0.9786\n",
      "Epoch 7/10\n",
      "375/375 [==============================] - 2s 4ms/step - loss: 0.0231 - accuracy: 0.9934 - val_loss: 0.0803 - val_accuracy: 0.9799\n",
      "Epoch 8/10\n",
      "375/375 [==============================] - 2s 4ms/step - loss: 0.0175 - accuracy: 0.9950 - val_loss: 0.0894 - val_accuracy: 0.9777\n",
      "Epoch 9/10\n",
      "375/375 [==============================] - 2s 4ms/step - loss: 0.0134 - accuracy: 0.9961 - val_loss: 0.0819 - val_accuracy: 0.9799\n",
      "Epoch 10/10\n",
      "375/375 [==============================] - 2s 4ms/step - loss: 0.0098 - accuracy: 0.9973 - val_loss: 0.0920 - val_accuracy: 0.9786\n"
     ]
    }
   ],
   "source": [
    "from tensorflow import keras\n",
    "from tensorflow.keras import layers\n",
    "\n",
    "def get_model():\n",
    "    model = keras.Sequential([\n",
    "        layers.Dense(512, activation=\"relu\"),\n",
    "        layers.Dense(10, activation=\"softmax\")\n",
    "    ])\n",
    "    model.compile(optimizer=\"rmsprop\",\n",
    "                  loss=\"sparse_categorical_crossentropy\",\n",
    "                  metrics=[\"accuracy\"])\n",
    "    return model\n",
    "\n",
    "model = get_model()\n",
    "history_noise = model.fit(\n",
    "    train_images_with_noise_channels, train_labels,\n",
    "    epochs=10,\n",
    "    batch_size=128,\n",
    "    validation_split=0.2)\n",
    "\n",
    "model = get_model()\n",
    "history_zeros = model.fit(\n",
    "    train_images_with_zeros_channels, train_labels,\n",
    "    epochs=10,\n",
    "    batch_size=128,\n",
    "    validation_split=0.2)"
   ]
  },
  {
   "cell_type": "markdown",
   "metadata": {
    "colab_type": "text"
   },
   "source": [
    "**Plotting a validation accuracy comparison**"
   ]
  },
  {
   "cell_type": "code",
   "execution_count": 3,
   "metadata": {
    "colab_type": "code"
   },
   "outputs": [
    {
     "data": {
      "text/plain": [
       "<matplotlib.legend.Legend at 0x26b31cce970>"
      ]
     },
     "execution_count": 3,
     "metadata": {},
     "output_type": "execute_result"
    },
    {
     "data": {
      "image/png": "[encoded data removed]",
      "text/plain": [
       "<Figure size 432x288 with 1 Axes>"
      ]
     },
     "metadata": {
      "needs_background": "light"
     },
     "output_type": "display_data"
    }
   ],
   "source": [
    "import matplotlib.pyplot as plt\n",
    "val_acc_noise = history_noise.history[\"val_accuracy\"]\n",
    "val_acc_zeros = history_zeros.history[\"val_accuracy\"]\n",
    "epochs = range(1, 11)\n",
    "plt.plot(epochs, val_acc_noise, \"b-\",\n",
    "         label=\"Validation accuracy with noise channels\")\n",
    "plt.plot(epochs, val_acc_zeros, \"b--\",\n",
    "         label=\"Validation accuracy with zeros channels\")\n",
    "plt.title(\"Effect of noise channels on validation accuracy\")\n",
    "plt.xlabel(\"Epochs\")\n",
    "plt.ylabel(\"Accuracy\")\n",
    "plt.legend()"
   ]
  },
  {
   "cell_type": "markdown",
   "metadata": {
    "colab_type": "text"
   },
   "source": [
    "### The nature of generalization in deep learning"
   ]
  },
  {
   "cell_type": "markdown",
   "metadata": {
    "colab_type": "text"
   },
   "source": [
    "**Fitting a MNIST model with randomly shuffled labels**"
   ]
  },
  {
   "cell_type": "code",
   "execution_count": 4,
   "metadata": {
    "colab_type": "code"
   },
   "outputs": [
    {
     "name": "stdout",
     "output_type": "stream",
     "text": [
      "Epoch 1/10\n",
      "375/375 [==============================] - 2s 4ms/step - loss: 2.3174 - accuracy: 0.1025 - val_loss: 2.3057 - val_accuracy: 0.1032\n",
      "Epoch 2/10\n",
      "375/375 [==============================] - 2s 4ms/step - loss: 2.2996 - accuracy: 0.1195 - val_loss: 2.3128 - val_accuracy: 0.1093\n",
      "Epoch 3/10\n",
      "375/375 [==============================] - 2s 5ms/step - loss: 2.2900 - accuracy: 0.1309 - val_loss: 2.3133 - val_accuracy: 0.1068\n",
      "Epoch 4/10\n",
      "375/375 [==============================] - 2s 5ms/step - loss: 2.2754 - accuracy: 0.1444 - val_loss: 2.3283 - val_accuracy: 0.1080\n",
      "Epoch 5/10\n",
      "375/375 [==============================] - 2s 5ms/step - loss: 2.2578 - accuracy: 0.1574 - val_loss: 2.3426 - val_accuracy: 0.1052\n",
      "Epoch 6/10\n",
      "375/375 [==============================] - 2s 5ms/step - loss: 2.2346 - accuracy: 0.1716 - val_loss: 2.3549 - val_accuracy: 0.1003\n",
      "Epoch 7/10\n",
      "375/375 [==============================] - 2s 6ms/step - loss: 2.2101 - accuracy: 0.1887 - val_loss: 2.3632 - val_accuracy: 0.1074\n",
      "Epoch 8/10\n",
      "375/375 [==============================] - 2s 7ms/step - loss: 2.1813 - accuracy: 0.2042 - val_loss: 2.3823 - val_accuracy: 0.1058\n",
      "Epoch 9/10\n",
      "375/375 [==============================] - 2s 6ms/step - loss: 2.1519 - accuracy: 0.2186 - val_loss: 2.4041 - val_accuracy: 0.1007\n",
      "Epoch 10/10\n",
      "375/375 [==============================] - 2s 5ms/step - loss: 2.1188 - accuracy: 0.2350 - val_loss: 2.4326 - val_accuracy: 0.0978\n"
     ]
    },
    {
     "data": {
      "text/plain": [
       "<tensorflow.python.keras.callbacks.History at 0x26b439e4df0>"
      ]
     },
     "execution_count": 4,
     "metadata": {},
     "output_type": "execute_result"
    }
   ],
   "source": [
    "(train_images, train_labels), _ = mnist.load_data()\n",
    "train_images = train_images.reshape((60000, 28 * 28))\n",
    "train_images = train_images.astype(\"float32\") / 255\n",
    "\n",
    "random_train_labels = train_labels[:]\n",
    "np.random.shuffle(random_train_labels)\n",
    "\n",
    "model = keras.Sequential([\n",
    "    layers.Dense(512, activation=\"relu\"),\n",
    "    layers.Dense(10, activation=\"softmax\")\n",
    "])\n",
    "model.compile(optimizer=\"rmsprop\",\n",
    "              loss=\"sparse_categorical_crossentropy\",\n",
    "              metrics=[\"accuracy\"])\n",
    "model.fit(train_images, random_train_labels,\n",
    "          epochs=10,#100>>10\n",
    "          batch_size=128,\n",
    "          validation_split=0.2)"
   ]
  },
  {
   "cell_type": "markdown",
   "metadata": {
    "colab_type": "text"
   },
   "source": [
    "#### The manifold hypothesis"
   ]
  },
  {
   "cell_type": "markdown",
   "metadata": {
    "colab_type": "text"
   },
   "source": [
    "#### Interpolation as a source of generalization"
   ]
  },
  {
   "cell_type": "markdown",
   "metadata": {
    "colab_type": "text"
   },
   "source": [
    "#### Why deep learning works"
   ]
  },
  {
   "cell_type": "markdown",
   "metadata": {
    "colab_type": "text"
   },
   "source": [
    "#### Training data is paramount"
   ]
  },
  {
   "cell_type": "markdown",
   "metadata": {
    "colab_type": "text"
   },
   "source": [
    "## Evaluating machine-learning models"
   ]
  },
  {
   "cell_type": "markdown",
   "metadata": {
    "colab_type": "text"
   },
   "source": [
    "### Training, validation, and test sets"
   ]
  },
  {
   "cell_type": "markdown",
   "metadata": {
    "colab_type": "text"
   },
   "source": [
    "#### Simple hold-out validation"
   ]
  },
  {
   "cell_type": "markdown",
   "metadata": {
    "colab_type": "text"
   },
   "source": [
    "#### K-fold validation"
   ]
  },
  {
   "cell_type": "markdown",
   "metadata": {
    "colab_type": "text"
   },
   "source": [
    "#### Iterated K-fold validation with shuffling"
   ]
  },
  {
   "cell_type": "markdown",
   "metadata": {
    "colab_type": "text"
   },
   "source": [
    "### Beating a common-sense baseline"
   ]
  },
  {
   "cell_type": "markdown",
   "metadata": {
    "colab_type": "text"
   },
   "source": [
    "### Things to keep in mind about model evaluation"
   ]
  },
  {
   "cell_type": "markdown",
   "metadata": {
    "colab_type": "text"
   },
   "source": [
    "## Improving model fit"
   ]
  },
  {
   "cell_type": "markdown",
   "metadata": {
    "colab_type": "text"
   },
   "source": [
    "### Tuning key gradient descent parameters"
   ]
  },
  {
   "cell_type": "markdown",
   "metadata": {
    "colab_type": "text"
   },
   "source": [
    "**Training a MNIST model with an incorrectly high learning rate**"
   ]
  },
  {
   "cell_type": "code",
   "execution_count": 5,
   "metadata": {
    "colab_type": "code"
   },
   "outputs": [
    {
     "name": "stdout",
     "output_type": "stream",
     "text": [
      "Epoch 1/10\n",
      "375/375 [==============================] - 2s 5ms/step - loss: 1114.8463 - accuracy: 0.3971 - val_loss: 2.2855 - val_accuracy: 0.2476\n",
      "Epoch 2/10\n",
      "375/375 [==============================] - 2s 5ms/step - loss: 6.5312 - accuracy: 0.2734 - val_loss: 2.1716 - val_accuracy: 0.2609\n",
      "Epoch 3/10\n",
      "375/375 [==============================] - 2s 5ms/step - loss: 3.1906 - accuracy: 0.2645 - val_loss: 2.8611 - val_accuracy: 0.3131\n",
      "Epoch 4/10\n",
      "375/375 [==============================] - 2s 5ms/step - loss: 2.8888 - accuracy: 0.2493 - val_loss: 2.0956 - val_accuracy: 0.2380\n",
      "Epoch 5/10\n",
      "375/375 [==============================] - 2s 5ms/step - loss: 2.6891 - accuracy: 0.2537 - val_loss: 2.3662 - val_accuracy: 0.2946\n",
      "Epoch 6/10\n",
      "375/375 [==============================] - 3s 7ms/step - loss: 2.6496 - accuracy: 0.2561 - val_loss: 2.1455 - val_accuracy: 0.2642\n",
      "Epoch 7/10\n",
      "375/375 [==============================] - 2s 6ms/step - loss: 2.4842 - accuracy: 0.2608 - val_loss: 2.1296 - val_accuracy: 0.2372\n",
      "Epoch 8/10\n",
      "375/375 [==============================] - 2s 5ms/step - loss: 2.7752 - accuracy: 0.2574 - val_loss: 2.2277 - val_accuracy: 0.2303\n",
      "Epoch 9/10\n",
      "375/375 [==============================] - 3s 9ms/step - loss: 2.6377 - accuracy: 0.2743 - val_loss: 2.6942 - val_accuracy: 0.3032\n",
      "Epoch 10/10\n",
      "375/375 [==============================] - 4s 10ms/step - loss: 2.5201 - accuracy: 0.2788 - val_loss: 3.7213 - val_accuracy: 0.3141\n"
     ]
    },
    {
     "data": {
      "text/plain": [
       "<tensorflow.python.keras.callbacks.History at 0x26b31ef5370>"
      ]
     },
     "execution_count": 5,
     "metadata": {},
     "output_type": "execute_result"
    }
   ],
   "source": [
    "(train_images, train_labels), _ = mnist.load_data()\n",
    "train_images = train_images.reshape((60000, 28 * 28))\n",
    "train_images = train_images.astype(\"float32\") / 255\n",
    "\n",
    "model = keras.Sequential([\n",
    "    layers.Dense(512, activation=\"relu\"),\n",
    "    layers.Dense(10, activation=\"softmax\")\n",
    "])\n",
    "model.compile(optimizer=keras.optimizers.RMSprop(1.),\n",
    "              loss=\"sparse_categorical_crossentropy\",\n",
    "              metrics=[\"accuracy\"])\n",
    "model.fit(train_images, train_labels,\n",
    "          epochs=10,\n",
    "          batch_size=128,\n",
    "          validation_split=0.2)"
   ]
  },
  {
   "cell_type": "markdown",
   "metadata": {
    "colab_type": "text"
   },
   "source": [
    "**The same model with a more appropriate learning rate**"
   ]
  },
  {
   "cell_type": "code",
   "execution_count": 6,
   "metadata": {
    "colab_type": "code"
   },
   "outputs": [
    {
     "name": "stdout",
     "output_type": "stream",
     "text": [
      "Epoch 1/10\n",
      "375/375 [==============================] - 5s 11ms/step - loss: 0.3390 - accuracy: 0.9129 - val_loss: 0.1853 - val_accuracy: 0.9510\n",
      "Epoch 2/10\n",
      "375/375 [==============================] - 2s 5ms/step - loss: 0.1401 - accuracy: 0.9631 - val_loss: 0.1698 - val_accuracy: 0.9615\n",
      "Epoch 3/10\n",
      "375/375 [==============================] - 2s 5ms/step - loss: 0.1153 - accuracy: 0.9743 - val_loss: 0.1504 - val_accuracy: 0.9716\n",
      "Epoch 4/10\n",
      "375/375 [==============================] - 2s 5ms/step - loss: 0.0977 - accuracy: 0.9781 - val_loss: 0.1827 - val_accuracy: 0.9690\n",
      "Epoch 5/10\n",
      "375/375 [==============================] - 2s 5ms/step - loss: 0.0856 - accuracy: 0.9826 - val_loss: 0.2136 - val_accuracy: 0.9703\n",
      "Epoch 6/10\n",
      "375/375 [==============================] - 2s 5ms/step - loss: 0.0792 - accuracy: 0.9844 - val_loss: 0.2064 - val_accuracy: 0.9728\n",
      "Epoch 7/10\n",
      "375/375 [==============================] - 2s 5ms/step - loss: 0.0711 - accuracy: 0.9866 - val_loss: 0.2578 - val_accuracy: 0.9740\n",
      "Epoch 8/10\n",
      "375/375 [==============================] - 2s 5ms/step - loss: 0.0711 - accuracy: 0.9874 - val_loss: 0.2923 - val_accuracy: 0.9689\n",
      "Epoch 9/10\n",
      "375/375 [==============================] - 2s 6ms/step - loss: 0.0629 - accuracy: 0.9888 - val_loss: 0.3815 - val_accuracy: 0.9687\n",
      "Epoch 10/10\n",
      "375/375 [==============================] - 2s 5ms/step - loss: 0.0589 - accuracy: 0.9901 - val_loss: 0.2898 - val_accuracy: 0.9758\n"
     ]
    },
    {
     "data": {
      "text/plain": [
       "<tensorflow.python.keras.callbacks.History at 0x26b33754e80>"
      ]
     },
     "execution_count": 6,
     "metadata": {},
     "output_type": "execute_result"
    }
   ],
   "source": [
    "model = keras.Sequential([\n",
    "    layers.Dense(512, activation=\"relu\"),\n",
    "    layers.Dense(10, activation=\"softmax\")\n",
    "])\n",
    "model.compile(optimizer=keras.optimizers.RMSprop(1e-2),\n",
    "              loss=\"sparse_categorical_crossentropy\",\n",
    "              metrics=[\"accuracy\"])\n",
    "model.fit(train_images, train_labels,\n",
    "          epochs=10,\n",
    "          batch_size=128,\n",
    "          validation_split=0.2)"
   ]
  },
  {
   "cell_type": "markdown",
   "metadata": {
    "colab_type": "text"
   },
   "source": [
    "### Leveraging better architecture priors"
   ]
  },
  {
   "cell_type": "markdown",
   "metadata": {
    "colab_type": "text"
   },
   "source": [
    "### Increasing model capacity"
   ]
  },
  {
   "cell_type": "markdown",
   "metadata": {
    "colab_type": "text"
   },
   "source": [
    "**A simple logistic regression on MNIST**"
   ]
  },
  {
   "cell_type": "code",
   "execution_count": 7,
   "metadata": {
    "colab_type": "code"
   },
   "outputs": [
    {
     "name": "stdout",
     "output_type": "stream",
     "text": [
      "Epoch 1/20\n",
      "375/375 [==============================] - 2s 5ms/step - loss: 0.6700 - accuracy: 0.8295 - val_loss: 0.3582 - val_accuracy: 0.9042\n",
      "Epoch 2/20\n",
      "375/375 [==============================] - 2s 4ms/step - loss: 0.3508 - accuracy: 0.9035 - val_loss: 0.3069 - val_accuracy: 0.9145\n",
      "Epoch 3/20\n",
      "375/375 [==============================] - 2s 5ms/step - loss: 0.3154 - accuracy: 0.9121 - val_loss: 0.2924 - val_accuracy: 0.9175\n",
      "Epoch 4/20\n",
      "375/375 [==============================] - 2s 5ms/step - loss: 0.2991 - accuracy: 0.9165 - val_loss: 0.2813 - val_accuracy: 0.9228\n",
      "Epoch 5/20\n",
      "375/375 [==============================] - 2s 5ms/step - loss: 0.2894 - accuracy: 0.9193 - val_loss: 0.2764 - val_accuracy: 0.9236\n",
      "Epoch 6/20\n",
      "375/375 [==============================] - 2s 5ms/step - loss: 0.2828 - accuracy: 0.9211 - val_loss: 0.2723 - val_accuracy: 0.9246\n",
      "Epoch 7/20\n",
      "375/375 [==============================] - 2s 6ms/step - loss: 0.2779 - accuracy: 0.9225 - val_loss: 0.2689 - val_accuracy: 0.9273\n",
      "Epoch 8/20\n",
      "375/375 [==============================] - 2s 5ms/step - loss: 0.2743 - accuracy: 0.9239 - val_loss: 0.2667 - val_accuracy: 0.9279\n",
      "Epoch 9/20\n",
      "375/375 [==============================] - 2s 5ms/step - loss: 0.2715 - accuracy: 0.9245 - val_loss: 0.2667 - val_accuracy: 0.9270\n",
      "Epoch 10/20\n",
      "375/375 [==============================] - 2s 4ms/step - loss: 0.2686 - accuracy: 0.9265 - val_loss: 0.2653 - val_accuracy: 0.9275\n",
      "Epoch 11/20\n",
      "375/375 [==============================] - 1s 4ms/step - loss: 0.2664 - accuracy: 0.9260 - val_loss: 0.2635 - val_accuracy: 0.9292\n",
      "Epoch 12/20\n",
      "375/375 [==============================] - 1s 4ms/step - loss: 0.2648 - accuracy: 0.9271 - val_loss: 0.2619 - val_accuracy: 0.9295\n",
      "Epoch 13/20\n",
      "375/375 [==============================] - 1s 4ms/step - loss: 0.2631 - accuracy: 0.9276 - val_loss: 0.2629 - val_accuracy: 0.9303\n",
      "Epoch 14/20\n",
      "375/375 [==============================] - 1s 4ms/step - loss: 0.2617 - accuracy: 0.9277 - val_loss: 0.2623 - val_accuracy: 0.9295\n",
      "Epoch 15/20\n",
      "375/375 [==============================] - 2s 4ms/step - loss: 0.2602 - accuracy: 0.9286 - val_loss: 0.2619 - val_accuracy: 0.9302\n",
      "Epoch 16/20\n",
      "375/375 [==============================] - 2s 5ms/step - loss: 0.2593 - accuracy: 0.9288 - val_loss: 0.2609 - val_accuracy: 0.9304\n",
      "Epoch 17/20\n",
      "375/375 [==============================] - 2s 5ms/step - loss: 0.2580 - accuracy: 0.9291 - val_loss: 0.2611 - val_accuracy: 0.9308\n",
      "Epoch 18/20\n",
      "375/375 [==============================] - 2s 4ms/step - loss: 0.2571 - accuracy: 0.9296 - val_loss: 0.2621 - val_accuracy: 0.9303\n",
      "Epoch 19/20\n",
      "375/375 [==============================] - 1s 4ms/step - loss: 0.2560 - accuracy: 0.9301 - val_loss: 0.2622 - val_accuracy: 0.9302\n",
      "Epoch 20/20\n",
      "375/375 [==============================] - 1s 4ms/step - loss: 0.2556 - accuracy: 0.9300 - val_loss: 0.2601 - val_accuracy: 0.9312\n"
     ]
    }
   ],
   "source": [
    "model = keras.Sequential([layers.Dense(10, activation=\"softmax\")])\n",
    "model.compile(optimizer=\"rmsprop\",\n",
    "              loss=\"sparse_categorical_crossentropy\",\n",
    "              metrics=[\"accuracy\"])\n",
    "history_small_model = model.fit(\n",
    "    train_images, train_labels,\n",
    "    epochs=20,\n",
    "    batch_size=128,\n",
    "    validation_split=0.2)"
   ]
  },
  {
   "cell_type": "code",
   "execution_count": 8,
   "metadata": {
    "colab_type": "code"
   },
   "outputs": [
    {
     "data": {
      "text/plain": [
       "<matplotlib.legend.Legend at 0x26b34983c10>"
      ]
     },
     "execution_count": 8,
     "metadata": {},
     "output_type": "execute_result"
    },
    {
     "data": {
      "image/png": "[encoded data removed]",
      "text/plain": [
       "<Figure size 432x288 with 1 Axes>"
      ]
     },
     "metadata": {
      "needs_background": "light"
     },
     "output_type": "display_data"
    }
   ],
   "source": [
    "import matplotlib.pyplot as plt\n",
    "val_loss = history_small_model.history[\"val_loss\"]\n",
    "epochs = range(1, 21)\n",
    "plt.plot(epochs, val_loss, \"b--\",\n",
    "         label=\"Validation loss\")\n",
    "plt.title(\"Effect of insufficient model capacity on validation loss\")\n",
    "plt.xlabel(\"Epochs\")\n",
    "plt.ylabel(\"Loss\")\n",
    "plt.legend()"
   ]
  },
  {
   "cell_type": "code",
   "execution_count": 9,
   "metadata": {
    "colab_type": "code"
   },
   "outputs": [
    {
     "name": "stdout",
     "output_type": "stream",
     "text": [
      "Epoch 1/20\n",
      "375/375 [==============================] - 4s 8ms/step - loss: 0.3670 - accuracy: 0.8965 - val_loss: 0.2074 - val_accuracy: 0.9386\n",
      "Epoch 2/20\n",
      "375/375 [==============================] - 2s 6ms/step - loss: 0.1542 - accuracy: 0.9541 - val_loss: 0.1239 - val_accuracy: 0.9628\n",
      "Epoch 3/20\n",
      "375/375 [==============================] - 3s 8ms/step - loss: 0.1073 - accuracy: 0.9672 - val_loss: 0.1076 - val_accuracy: 0.9678\n",
      "Epoch 4/20\n",
      "375/375 [==============================] - 3s 8ms/step - loss: 0.0826 - accuracy: 0.9752 - val_loss: 0.0934 - val_accuracy: 0.9718\n",
      "Epoch 5/20\n",
      "375/375 [==============================] - 3s 7ms/step - loss: 0.0663 - accuracy: 0.9800 - val_loss: 0.0944 - val_accuracy: 0.9725\n",
      "Epoch 6/20\n",
      "375/375 [==============================] - 3s 8ms/step - loss: 0.0540 - accuracy: 0.9831 - val_loss: 0.0962 - val_accuracy: 0.9724\n",
      "Epoch 7/20\n",
      "375/375 [==============================] - 3s 7ms/step - loss: 0.0439 - accuracy: 0.9866 - val_loss: 0.0848 - val_accuracy: 0.9758\n",
      "Epoch 8/20\n",
      "375/375 [==============================] - 2s 6ms/step - loss: 0.0380 - accuracy: 0.9884 - val_loss: 0.0965 - val_accuracy: 0.9734\n",
      "Epoch 9/20\n",
      "375/375 [==============================] - 2s 7ms/step - loss: 0.0308 - accuracy: 0.9897 - val_loss: 0.0913 - val_accuracy: 0.9758\n",
      "Epoch 10/20\n",
      "375/375 [==============================] - 3s 7ms/step - loss: 0.0266 - accuracy: 0.9919 - val_loss: 0.0939 - val_accuracy: 0.9756\n",
      "Epoch 11/20\n",
      "375/375 [==============================] - 2s 6ms/step - loss: 0.0224 - accuracy: 0.9930 - val_loss: 0.0974 - val_accuracy: 0.9762\n",
      "Epoch 12/20\n",
      "375/375 [==============================] - 2s 6ms/step - loss: 0.0187 - accuracy: 0.9944 - val_loss: 0.0964 - val_accuracy: 0.9762\n",
      "Epoch 13/20\n",
      "375/375 [==============================] - 2s 7ms/step - loss: 0.0157 - accuracy: 0.9949 - val_loss: 0.1155 - val_accuracy: 0.9732\n",
      "Epoch 14/20\n",
      "375/375 [==============================] - 3s 8ms/step - loss: 0.0136 - accuracy: 0.9958 - val_loss: 0.1082 - val_accuracy: 0.9762\n",
      "Epoch 15/20\n",
      "375/375 [==============================] - 2s 7ms/step - loss: 0.0113 - accuracy: 0.9969 - val_loss: 0.1184 - val_accuracy: 0.9747\n",
      "Epoch 16/20\n",
      "375/375 [==============================] - 4s 11ms/step - loss: 0.0103 - accuracy: 0.9971 - val_loss: 0.1196 - val_accuracy: 0.9755\n",
      "Epoch 17/20\n",
      "375/375 [==============================] - 3s 9ms/step - loss: 0.0089 - accuracy: 0.9973 - val_loss: 0.1232 - val_accuracy: 0.9752\n",
      "Epoch 18/20\n",
      "375/375 [==============================] - 2s 6ms/step - loss: 0.0077 - accuracy: 0.9977 - val_loss: 0.1317 - val_accuracy: 0.9753\n",
      "Epoch 19/20\n",
      "375/375 [==============================] - 2s 5ms/step - loss: 0.0067 - accuracy: 0.9978 - val_loss: 0.1406 - val_accuracy: 0.9739\n",
      "Epoch 20/20\n",
      "375/375 [==============================] - 2s 6ms/step - loss: 0.0051 - accuracy: 0.9983 - val_loss: 0.1373 - val_accuracy: 0.9758\n"
     ]
    }
   ],
   "source": [
    "model = keras.Sequential([\n",
    "    layers.Dense(96, activation=\"relu\"),\n",
    "    layers.Dense(96, activation=\"relu\"),\n",
    "    layers.Dense(10, activation=\"softmax\"),\n",
    "])\n",
    "model.compile(optimizer=\"rmsprop\",\n",
    "              loss=\"sparse_categorical_crossentropy\",\n",
    "              metrics=[\"accuracy\"])\n",
    "history_large_model = model.fit(\n",
    "    train_images, train_labels,\n",
    "    epochs=20,\n",
    "    batch_size=128,\n",
    "    validation_split=0.2)"
   ]
  },
  {
   "cell_type": "markdown",
   "metadata": {
    "colab_type": "text"
   },
   "source": [
    "## Improving generalization"
   ]
  },
  {
   "cell_type": "markdown",
   "metadata": {
    "colab_type": "text"
   },
   "source": [
    "### Dataset curation"
   ]
  },
  {
   "cell_type": "markdown",
   "metadata": {
    "colab_type": "text"
   },
   "source": [
    "### Feature engineering"
   ]
  },
  {
   "cell_type": "markdown",
   "metadata": {
    "colab_type": "text"
   },
   "source": [
    "### Using early stopping"
   ]
  },
  {
   "cell_type": "markdown",
   "metadata": {
    "colab_type": "text"
   },
   "source": [
    "### Regularizing your model"
   ]
  },
  {
   "cell_type": "markdown",
   "metadata": {
    "colab_type": "text"
   },
   "source": [
    "#### Reducing the network's size"
   ]
  },
  {
   "cell_type": "markdown",
   "metadata": {
    "colab_type": "text"
   },
   "source": [
    "**Original model**"
   ]
  },
  {
   "cell_type": "code",
   "execution_count": 10,
   "metadata": {
    "colab_type": "code"
   },
   "outputs": [
    {
     "name": "stderr",
     "output_type": "stream",
     "text": [
      "<__array_function__ internals>:5: VisibleDeprecationWarning: Creating an ndarray from ragged nested sequences (which is a list-or-tuple of lists-or-tuples-or ndarrays with different lengths or shapes) is deprecated. If you meant to do this, you must specify 'dtype=object' when creating the ndarray\n",
      "C:\\Users\\ddwu0\\anaconda3\\lib\\site-packages\\tensorflow\\python\\keras\\datasets\\imdb.py:155: VisibleDeprecationWarning: Creating an ndarray from ragged nested sequences (which is a list-or-tuple of lists-or-tuples-or ndarrays with different lengths or shapes) is deprecated. If you meant to do this, you must specify 'dtype=object' when creating the ndarray\n",
      "  x_train, y_train = np.array(xs[:idx]), np.array(labels[:idx])\n",
      "C:\\Users\\ddwu0\\anaconda3\\lib\\site-packages\\tensorflow\\python\\keras\\datasets\\imdb.py:156: VisibleDeprecationWarning: Creating an ndarray from ragged nested sequences (which is a list-or-tuple of lists-or-tuples-or ndarrays with different lengths or shapes) is deprecated. If you meant to do this, you must specify 'dtype=object' when creating the ndarray\n",
      "  x_test, y_test = np.array(xs[idx:]), np.array(labels[idx:])\n"
     ]
    },
    {
     "name": "stdout",
     "output_type": "stream",
     "text": [
      "Epoch 1/20\n",
      "30/30 [==============================] - 7s 166ms/step - loss: 0.5134 - accuracy: 0.7915 - val_loss: 0.3917 - val_accuracy: 0.8675\n",
      "Epoch 2/20\n",
      "30/30 [==============================] - 3s 95ms/step - loss: 0.3054 - accuracy: 0.9032 - val_loss: 0.3260 - val_accuracy: 0.8725\n",
      "Epoch 3/20\n",
      "30/30 [==============================] - 2s 54ms/step - loss: 0.2253 - accuracy: 0.9266 - val_loss: 0.2859 - val_accuracy: 0.8876\n",
      "Epoch 4/20\n",
      "30/30 [==============================] - 1s 41ms/step - loss: 0.1785 - accuracy: 0.9422 - val_loss: 0.2768 - val_accuracy: 0.8886\n",
      "Epoch 5/20\n",
      "30/30 [==============================] - 1s 36ms/step - loss: 0.1466 - accuracy: 0.9534 - val_loss: 0.2787 - val_accuracy: 0.8888\n",
      "Epoch 6/20\n",
      "30/30 [==============================] - 1s 43ms/step - loss: 0.1205 - accuracy: 0.9633 - val_loss: 0.3091 - val_accuracy: 0.8807\n",
      "Epoch 7/20\n",
      "30/30 [==============================] - 2s 58ms/step - loss: 0.1007 - accuracy: 0.9709 - val_loss: 0.3063 - val_accuracy: 0.8854\n",
      "Epoch 8/20\n",
      "30/30 [==============================] - 1s 47ms/step - loss: 0.0862 - accuracy: 0.9760 - val_loss: 0.3266 - val_accuracy: 0.8814\n",
      "Epoch 9/20\n",
      "30/30 [==============================] - 1s 46ms/step - loss: 0.0718 - accuracy: 0.9805 - val_loss: 0.3472 - val_accuracy: 0.8798\n",
      "Epoch 10/20\n",
      "30/30 [==============================] - 1s 38ms/step - loss: 0.0603 - accuracy: 0.9845 - val_loss: 0.3924 - val_accuracy: 0.8741\n",
      "Epoch 11/20\n",
      "30/30 [==============================] - 1s 43ms/step - loss: 0.0528 - accuracy: 0.9868 - val_loss: 0.3949 - val_accuracy: 0.8763\n",
      "Epoch 12/20\n",
      "30/30 [==============================] - 1s 48ms/step - loss: 0.0396 - accuracy: 0.9907 - val_loss: 0.4326 - val_accuracy: 0.8741\n",
      "Epoch 13/20\n",
      "30/30 [==============================] - 1s 45ms/step - loss: 0.0351 - accuracy: 0.9923 - val_loss: 0.4620 - val_accuracy: 0.8733\n",
      "Epoch 14/20\n",
      "30/30 [==============================] - 1s 40ms/step - loss: 0.0285 - accuracy: 0.9943 - val_loss: 0.4876 - val_accuracy: 0.8700\n",
      "Epoch 15/20\n",
      "30/30 [==============================] - 1s 31ms/step - loss: 0.0244 - accuracy: 0.9949 - val_loss: 0.5097 - val_accuracy: 0.8722\n",
      "Epoch 16/20\n",
      "30/30 [==============================] - 1s 36ms/step - loss: 0.0203 - accuracy: 0.9960 - val_loss: 0.5437 - val_accuracy: 0.8706\n",
      "Epoch 17/20\n",
      "30/30 [==============================] - 1s 32ms/step - loss: 0.0144 - accuracy: 0.9980 - val_loss: 0.6225 - val_accuracy: 0.8661\n",
      "Epoch 18/20\n",
      "30/30 [==============================] - 1s 35ms/step - loss: 0.0107 - accuracy: 0.9990 - val_loss: 0.6259 - val_accuracy: 0.8626\n",
      "Epoch 19/20\n",
      "30/30 [==============================] - 1s 37ms/step - loss: 0.0109 - accuracy: 0.9984 - val_loss: 0.6489 - val_accuracy: 0.8674\n",
      "Epoch 20/20\n",
      "30/30 [==============================] - 1s 34ms/step - loss: 0.0062 - accuracy: 0.9994 - val_loss: 0.7260 - val_accuracy: 0.8586\n"
     ]
    }
   ],
   "source": [
    "from tensorflow.keras.datasets import imdb\n",
    "(train_data, train_labels), _ = imdb.load_data(num_words=10000)\n",
    "\n",
    "def vectorize_sequences(sequences, dimension=10000):\n",
    "    results = np.zeros((len(sequences), dimension))\n",
    "    for i, sequence in enumerate(sequences):\n",
    "        results[i, sequence] = 1.\n",
    "    return results\n",
    "train_data = vectorize_sequences(train_data)\n",
    "\n",
    "model = keras.Sequential([\n",
    "    layers.Dense(16, activation=\"relu\"),\n",
    "    layers.Dense(16, activation=\"relu\"),\n",
    "    layers.Dense(1, activation=\"sigmoid\")\n",
    "])\n",
    "model.compile(optimizer=\"rmsprop\",\n",
    "              loss=\"binary_crossentropy\",\n",
    "              metrics=[\"accuracy\"])\n",
    "history_original = model.fit(train_data, train_labels,\n",
    "                             epochs=20, batch_size=512, validation_split=0.4)"
   ]
  },
  {
   "cell_type": "markdown",
   "metadata": {
    "colab_type": "text"
   },
   "source": [
    "**Version of the model with lower capacity**"
   ]
  },
  {
   "cell_type": "code",
   "execution_count": 11,
   "metadata": {
    "colab_type": "code"
   },
   "outputs": [
    {
     "name": "stdout",
     "output_type": "stream",
     "text": [
      "Epoch 1/20\n",
      "30/30 [==============================] - 3s 60ms/step - loss: 0.5841 - accuracy: 0.7809 - val_loss: 0.4940 - val_accuracy: 0.8521\n",
      "Epoch 2/20\n",
      "30/30 [==============================] - 1s 48ms/step - loss: 0.4302 - accuracy: 0.8781 - val_loss: 0.4053 - val_accuracy: 0.8635\n",
      "Epoch 3/20\n",
      "30/30 [==============================] - 2s 66ms/step - loss: 0.3418 - accuracy: 0.8989 - val_loss: 0.3467 - val_accuracy: 0.8787\n",
      "Epoch 4/20\n",
      "30/30 [==============================] - 2s 56ms/step - loss: 0.2814 - accuracy: 0.9151 - val_loss: 0.3107 - val_accuracy: 0.8855\n",
      "Epoch 5/20\n",
      "30/30 [==============================] - 1s 44ms/step - loss: 0.2379 - accuracy: 0.9261 - val_loss: 0.3013 - val_accuracy: 0.8805\n",
      "Epoch 6/20\n",
      "30/30 [==============================] - 1s 40ms/step - loss: 0.2065 - accuracy: 0.9371 - val_loss: 0.2804 - val_accuracy: 0.8907\n",
      "Epoch 7/20\n",
      "30/30 [==============================] - 1s 32ms/step - loss: 0.1815 - accuracy: 0.9441 - val_loss: 0.2753 - val_accuracy: 0.8913\n",
      "Epoch 8/20\n",
      "30/30 [==============================] - 1s 30ms/step - loss: 0.1615 - accuracy: 0.9482 - val_loss: 0.2823 - val_accuracy: 0.8857\n",
      "Epoch 9/20\n",
      "30/30 [==============================] - 1s 28ms/step - loss: 0.1446 - accuracy: 0.9551 - val_loss: 0.2744 - val_accuracy: 0.8915\n",
      "Epoch 10/20\n",
      "30/30 [==============================] - 1s 28ms/step - loss: 0.1297 - accuracy: 0.9621 - val_loss: 0.2789 - val_accuracy: 0.8903\n",
      "Epoch 11/20\n",
      "30/30 [==============================] - 1s 29ms/step - loss: 0.1166 - accuracy: 0.9655 - val_loss: 0.2945 - val_accuracy: 0.8854\n",
      "Epoch 12/20\n",
      "30/30 [==============================] - 1s 30ms/step - loss: 0.1051 - accuracy: 0.9693 - val_loss: 0.2928 - val_accuracy: 0.8878\n",
      "Epoch 13/20\n",
      "30/30 [==============================] - 1s 32ms/step - loss: 0.0953 - accuracy: 0.9729 - val_loss: 0.3031 - val_accuracy: 0.8857\n",
      "Epoch 14/20\n",
      "30/30 [==============================] - 1s 33ms/step - loss: 0.0862 - accuracy: 0.9769 - val_loss: 0.3129 - val_accuracy: 0.8848\n",
      "Epoch 15/20\n",
      "30/30 [==============================] - 1s 42ms/step - loss: 0.0777 - accuracy: 0.9794 - val_loss: 0.3241 - val_accuracy: 0.8840\n",
      "Epoch 16/20\n",
      "30/30 [==============================] - 1s 41ms/step - loss: 0.0698 - accuracy: 0.9830 - val_loss: 0.3411 - val_accuracy: 0.8822\n",
      "Epoch 17/20\n",
      "30/30 [==============================] - 1s 40ms/step - loss: 0.0632 - accuracy: 0.9851 - val_loss: 0.3585 - val_accuracy: 0.8797\n",
      "Epoch 18/20\n",
      "30/30 [==============================] - 1s 33ms/step - loss: 0.0567 - accuracy: 0.9873 - val_loss: 0.3748 - val_accuracy: 0.8791\n",
      "Epoch 19/20\n",
      "30/30 [==============================] - 1s 30ms/step - loss: 0.0515 - accuracy: 0.9880 - val_loss: 0.3871 - val_accuracy: 0.8776\n",
      "Epoch 20/20\n",
      "30/30 [==============================] - 1s 29ms/step - loss: 0.0465 - accuracy: 0.9898 - val_loss: 0.3943 - val_accuracy: 0.8786\n"
     ]
    }
   ],
   "source": [
    "model = keras.Sequential([\n",
    "    layers.Dense(4, activation=\"relu\"),\n",
    "    layers.Dense(4, activation=\"relu\"),\n",
    "    layers.Dense(1, activation=\"sigmoid\")\n",
    "])\n",
    "model.compile(optimizer=\"rmsprop\",\n",
    "              loss=\"binary_crossentropy\",\n",
    "              metrics=[\"accuracy\"])\n",
    "history_smaller_model = model.fit(\n",
    "    train_data, train_labels,\n",
    "    epochs=20, batch_size=512, validation_split=0.4)"
   ]
  },
  {
   "cell_type": "markdown",
   "metadata": {
    "colab_type": "text"
   },
   "source": [
    "**Version of the model with higher capacity**"
   ]
  },
  {
   "cell_type": "code",
   "execution_count": 12,
   "metadata": {
    "colab_type": "code"
   },
   "outputs": [
    {
     "name": "stdout",
     "output_type": "stream",
     "text": [
      "Epoch 1/20\n",
      "30/30 [==============================] - 4s 78ms/step - loss: 0.5365 - accuracy: 0.7603 - val_loss: 0.4617 - val_accuracy: 0.7830\n",
      "Epoch 2/20\n",
      "30/30 [==============================] - 2s 60ms/step - loss: 0.2628 - accuracy: 0.8965 - val_loss: 0.3023 - val_accuracy: 0.8771\n",
      "Epoch 3/20\n",
      "30/30 [==============================] - 2s 58ms/step - loss: 0.1640 - accuracy: 0.9409 - val_loss: 0.4555 - val_accuracy: 0.8298\n",
      "Epoch 4/20\n",
      "30/30 [==============================] - 2s 56ms/step - loss: 0.0812 - accuracy: 0.9714 - val_loss: 0.3615 - val_accuracy: 0.8902\n",
      "Epoch 5/20\n",
      "30/30 [==============================] - 2s 58ms/step - loss: 0.0914 - accuracy: 0.9749 - val_loss: 0.3995 - val_accuracy: 0.8902\n",
      "Epoch 6/20\n",
      "30/30 [==============================] - 2s 56ms/step - loss: 0.0519 - accuracy: 0.9873 - val_loss: 0.4711 - val_accuracy: 0.8567\n",
      "Epoch 7/20\n",
      "30/30 [==============================] - 2s 57ms/step - loss: 0.0050 - accuracy: 0.9997 - val_loss: 0.5094 - val_accuracy: 0.8850\n",
      "Epoch 8/20\n",
      "30/30 [==============================] - 2s 62ms/step - loss: 5.9795e-04 - accuracy: 0.9999 - val_loss: 0.6347 - val_accuracy: 0.8846\n",
      "Epoch 9/20\n",
      "30/30 [==============================] - 2s 78ms/step - loss: 9.2702e-05 - accuracy: 1.0000 - val_loss: 0.7483 - val_accuracy: 0.8853\n",
      "Epoch 10/20\n",
      "30/30 [==============================] - 2s 81ms/step - loss: 1.9695e-05 - accuracy: 1.0000 - val_loss: 0.8518 - val_accuracy: 0.8866\n",
      "Epoch 11/20\n",
      "30/30 [==============================] - 2s 81ms/step - loss: 0.3783 - accuracy: 0.9803 - val_loss: 0.6192 - val_accuracy: 0.8841\n",
      "Epoch 12/20\n",
      "30/30 [==============================] - 3s 98ms/step - loss: 6.3131e-04 - accuracy: 0.9999 - val_loss: 0.6466 - val_accuracy: 0.8841\n",
      "Epoch 13/20\n",
      "30/30 [==============================] - 2s 80ms/step - loss: 5.6095e-05 - accuracy: 1.0000 - val_loss: 0.6970 - val_accuracy: 0.8858\n",
      "Epoch 14/20\n",
      "30/30 [==============================] - 2s 65ms/step - loss: 2.2445e-05 - accuracy: 1.0000 - val_loss: 0.7598 - val_accuracy: 0.8856\n",
      "Epoch 15/20\n",
      "30/30 [==============================] - 2s 58ms/step - loss: 8.0355e-06 - accuracy: 1.0000 - val_loss: 0.8531 - val_accuracy: 0.8848\n",
      "Epoch 16/20\n",
      "30/30 [==============================] - 2s 57ms/step - loss: 2.5192e-06 - accuracy: 1.0000 - val_loss: 0.9490 - val_accuracy: 0.8846\n",
      "Epoch 17/20\n",
      "30/30 [==============================] - 2s 57ms/step - loss: 8.2096e-07 - accuracy: 1.0000 - val_loss: 1.0304 - val_accuracy: 0.8848\n",
      "Epoch 18/20\n",
      "30/30 [==============================] - 2s 58ms/step - loss: 2.9388e-07 - accuracy: 1.0000 - val_loss: 1.1179 - val_accuracy: 0.8853\n",
      "Epoch 19/20\n",
      "30/30 [==============================] - 2s 56ms/step - loss: 1.1371e-07 - accuracy: 1.0000 - val_loss: 1.1833 - val_accuracy: 0.8852\n",
      "Epoch 20/20\n",
      "30/30 [==============================] - 2s 55ms/step - loss: 5.0591e-08 - accuracy: 1.0000 - val_loss: 1.2351 - val_accuracy: 0.8852\n"
     ]
    }
   ],
   "source": [
    "model = keras.Sequential([\n",
    "    layers.Dense(512, activation=\"relu\"),\n",
    "    layers.Dense(512, activation=\"relu\"),\n",
    "    layers.Dense(1, activation=\"sigmoid\")\n",
    "])\n",
    "model.compile(optimizer=\"rmsprop\",\n",
    "              loss=\"binary_crossentropy\",\n",
    "              metrics=[\"accuracy\"])\n",
    "history_larger_model = model.fit(\n",
    "    train_data, train_labels,\n",
    "    epochs=20, batch_size=512, validation_split=0.4)"
   ]
  },
  {
   "cell_type": "markdown",
   "metadata": {
    "colab_type": "text"
   },
   "source": [
    "#### Adding weight regularization"
   ]
  },
  {
   "cell_type": "markdown",
   "metadata": {
    "colab_type": "text"
   },
   "source": [
    "**Adding L2 weight regularization to the model**"
   ]
  },
  {
   "cell_type": "code",
   "execution_count": 13,
   "metadata": {
    "colab_type": "code"
   },
   "outputs": [
    {
     "name": "stdout",
     "output_type": "stream",
     "text": [
      "Epoch 1/20\n",
      "30/30 [==============================] - 7s 181ms/step - loss: 0.6163 - accuracy: 0.7779 - val_loss: 0.4957 - val_accuracy: 0.8642\n",
      "Epoch 2/20\n",
      "30/30 [==============================] - 3s 106ms/step - loss: 0.4225 - accuracy: 0.8923 - val_loss: 0.4041 - val_accuracy: 0.8832\n",
      "Epoch 3/20\n",
      "30/30 [==============================] - 4s 124ms/step - loss: 0.3531 - accuracy: 0.9094 - val_loss: 0.3770 - val_accuracy: 0.8860\n",
      "Epoch 4/20\n",
      "30/30 [==============================] - 3s 116ms/step - loss: 0.3135 - accuracy: 0.9214 - val_loss: 0.3719 - val_accuracy: 0.8849s:\n",
      "Epoch 5/20\n",
      "30/30 [==============================] - 3s 113ms/step - loss: 0.2940 - accuracy: 0.9284 - val_loss: 0.3600 - val_accuracy: 0.8883\n",
      "Epoch 6/20\n",
      "30/30 [==============================] - 3s 107ms/step - loss: 0.2799 - accuracy: 0.9317 - val_loss: 0.3600 - val_accuracy: 0.8881\n",
      "Epoch 7/20\n",
      "30/30 [==============================] - 3s 94ms/step - loss: 0.2649 - accuracy: 0.9391 - val_loss: 0.3624 - val_accuracy: 0.8860\n",
      "Epoch 8/20\n",
      "30/30 [==============================] - 3s 106ms/step - loss: 0.2557 - accuracy: 0.9421 - val_loss: 0.4032 - val_accuracy: 0.8666\n",
      "Epoch 9/20\n",
      "30/30 [==============================] - 3s 93ms/step - loss: 0.2539 - accuracy: 0.9396 - val_loss: 0.3675 - val_accuracy: 0.8830\n",
      "Epoch 10/20\n",
      "30/30 [==============================] - 2s 77ms/step - loss: 0.2429 - accuracy: 0.9481 - val_loss: 0.4392 - val_accuracy: 0.8567\n",
      "Epoch 11/20\n",
      "30/30 [==============================] - 3s 92ms/step - loss: 0.2367 - accuracy: 0.9488 - val_loss: 0.3785 - val_accuracy: 0.8792\n",
      "Epoch 12/20\n",
      "30/30 [==============================] - 3s 90ms/step - loss: 0.2325 - accuracy: 0.9505 - val_loss: 0.3805 - val_accuracy: 0.8827\n",
      "Epoch 13/20\n",
      "30/30 [==============================] - 2s 78ms/step - loss: 0.2307 - accuracy: 0.9495 - val_loss: 0.3839 - val_accuracy: 0.8821\n",
      "Epoch 14/20\n",
      "30/30 [==============================] - 3s 106ms/step - loss: 0.2248 - accuracy: 0.9529 - val_loss: 0.3906 - val_accuracy: 0.8792\n",
      "Epoch 15/20\n",
      "30/30 [==============================] - 3s 86ms/step - loss: 0.2189 - accuracy: 0.9554 - val_loss: 0.3942 - val_accuracy: 0.8749\n",
      "Epoch 16/20\n",
      "30/30 [==============================] - 2s 78ms/step - loss: 0.2235 - accuracy: 0.9512 - val_loss: 0.3984 - val_accuracy: 0.8789\n",
      "Epoch 17/20\n",
      "30/30 [==============================] - 3s 90ms/step - loss: 0.2162 - accuracy: 0.9547 - val_loss: 0.4372 - val_accuracy: 0.8695\n",
      "Epoch 18/20\n",
      "30/30 [==============================] - 2s 64ms/step - loss: 0.2105 - accuracy: 0.9582 - val_loss: 0.4136 - val_accuracy: 0.8730\n",
      "Epoch 19/20\n",
      "30/30 [==============================] - 2s 72ms/step - loss: 0.2068 - accuracy: 0.9593 - val_loss: 0.4113 - val_accuracy: 0.8737\n",
      "Epoch 20/20\n",
      "30/30 [==============================] - 2s 67ms/step - loss: 0.2141 - accuracy: 0.9553 - val_loss: 0.4098 - val_accuracy: 0.8781\n"
     ]
    }
   ],
   "source": [
    "from tensorflow.keras import regularizers\n",
    "model = keras.Sequential([\n",
    "    layers.Dense(16,\n",
    "                 kernel_regularizer=regularizers.l2(0.002),\n",
    "                 activation=\"relu\"),\n",
    "    layers.Dense(16,\n",
    "                 kernel_regularizer=regularizers.l2(0.002),\n",
    "                 activation=\"relu\"),\n",
    "    layers.Dense(1, activation=\"sigmoid\")\n",
    "])\n",
    "model.compile(optimizer=\"rmsprop\",\n",
    "              loss=\"binary_crossentropy\",\n",
    "              metrics=[\"accuracy\"])\n",
    "history_l2_reg = model.fit(\n",
    "    train_data, train_labels,\n",
    "    epochs=20, batch_size=512, validation_split=0.4)"
   ]
  },
  {
   "cell_type": "markdown",
   "metadata": {
    "colab_type": "text"
   },
   "source": [
    "**Different weight regularizers available in Keras**"
   ]
  },
  {
   "cell_type": "code",
   "execution_count": 14,
   "metadata": {
    "colab_type": "code"
   },
   "outputs": [
    {
     "data": {
      "text/plain": [
       "<tensorflow.python.keras.regularizers.L1L2 at 0x26b4297a220>"
      ]
     },
     "execution_count": 14,
     "metadata": {},
     "output_type": "execute_result"
    }
   ],
   "source": [
    "from tensorflow.keras import regularizers\n",
    "regularizers.l1(0.001)\n",
    "regularizers.l1_l2(l1=0.001, l2=0.001)"
   ]
  },
  {
   "cell_type": "markdown",
   "metadata": {
    "colab_type": "text"
   },
   "source": [
    "#### Adding dropout"
   ]
  },
  {
   "cell_type": "markdown",
   "metadata": {
    "colab_type": "text"
   },
   "source": [
    "**Adding dropout to the IMDB model**"
   ]
  },
  {
   "cell_type": "code",
   "execution_count": 15,
   "metadata": {
    "colab_type": "code"
   },
   "outputs": [
    {
     "name": "stdout",
     "output_type": "stream",
     "text": [
      "Epoch 1/20\n",
      "30/30 [==============================] - 12s 154ms/step - loss: 0.6616 - accuracy: 0.5892 - val_loss: 0.5670 - val_accuracy: 0.8346 - accu\n",
      "Epoch 2/20\n",
      "30/30 [==============================] - 2s 72ms/step - loss: 0.5718 - accuracy: 0.7063 - val_loss: 0.4497 - val_accuracy: 0.8690\n",
      "Epoch 3/20\n",
      "30/30 [==============================] - 2s 79ms/step - loss: 0.4834 - accuracy: 0.7821 - val_loss: 0.3852 - val_accuracy: 0.8783\n",
      "Epoch 4/20\n",
      "30/30 [==============================] - 2s 71ms/step - loss: 0.4179 - accuracy: 0.8218 - val_loss: 0.3259 - val_accuracy: 0.8872\n",
      "Epoch 5/20\n",
      "30/30 [==============================] - 2s 63ms/step - loss: 0.3693 - accuracy: 0.8504 - val_loss: 0.2971 - val_accuracy: 0.8908\n",
      "Epoch 6/20\n",
      "30/30 [==============================] - 2s 59ms/step - loss: 0.3286 - accuracy: 0.8764 - val_loss: 0.2837 - val_accuracy: 0.8908\n",
      "Epoch 7/20\n",
      "30/30 [==============================] - 1s 44ms/step - loss: 0.2915 - accuracy: 0.8944 - val_loss: 0.2756 - val_accuracy: 0.8934\n",
      "Epoch 8/20\n",
      "30/30 [==============================] - 2s 56ms/step - loss: 0.2584 - accuracy: 0.9103 - val_loss: 0.2759 - val_accuracy: 0.8916\n",
      "Epoch 9/20\n",
      "30/30 [==============================] - 3s 88ms/step - loss: 0.2292 - accuracy: 0.9207 - val_loss: 0.2957 - val_accuracy: 0.8863\n",
      "Epoch 10/20\n",
      "30/30 [==============================] - 2s 74ms/step - loss: 0.2039 - accuracy: 0.9323 - val_loss: 0.2939 - val_accuracy: 0.8925\n",
      "Epoch 11/20\n",
      "30/30 [==============================] - 2s 68ms/step - loss: 0.1893 - accuracy: 0.9405 - val_loss: 0.3157 - val_accuracy: 0.8869\n",
      "Epoch 12/20\n",
      "30/30 [==============================] - 2s 66ms/step - loss: 0.1714 - accuracy: 0.9453 - val_loss: 0.3238 - val_accuracy: 0.8883\n",
      "Epoch 13/20\n",
      "30/30 [==============================] - 2s 76ms/step - loss: 0.1537 - accuracy: 0.9506 - val_loss: 0.3305 - val_accuracy: 0.8897\n",
      "Epoch 14/20\n",
      "30/30 [==============================] - 2s 58ms/step - loss: 0.1488 - accuracy: 0.9533 - val_loss: 0.3540 - val_accuracy: 0.8883\n",
      "Epoch 15/20\n",
      "30/30 [==============================] - 2s 62ms/step - loss: 0.1321 - accuracy: 0.9582 - val_loss: 0.3954 - val_accuracy: 0.8870\n",
      "Epoch 16/20\n",
      "30/30 [==============================] - 1s 46ms/step - loss: 0.1234 - accuracy: 0.9623 - val_loss: 0.4184 - val_accuracy: 0.8863\n",
      "Epoch 17/20\n",
      "30/30 [==============================] - 1s 42ms/step - loss: 0.1167 - accuracy: 0.9619 - val_loss: 0.4165 - val_accuracy: 0.8858\n",
      "Epoch 18/20\n",
      "30/30 [==============================] - 2s 54ms/step - loss: 0.1095 - accuracy: 0.9660 - val_loss: 0.4444 - val_accuracy: 0.8837\n",
      "Epoch 19/20\n",
      "30/30 [==============================] - 1s 45ms/step - loss: 0.0986 - accuracy: 0.9684 - val_loss: 0.4772 - val_accuracy: 0.8847\n",
      "Epoch 20/20\n",
      "30/30 [==============================] - 2s 56ms/step - loss: 0.0991 - accuracy: 0.9695 - val_loss: 0.4944 - val_accuracy: 0.8818\n"
     ]
    }
   ],
   "source": [
    "model = keras.Sequential([\n",
    "    layers.Dense(16, activation=\"relu\"),\n",
    "    layers.Dropout(0.5),\n",
    "    layers.Dense(16, activation=\"relu\"),\n",
    "    layers.Dropout(0.5),\n",
    "    layers.Dense(1, activation=\"sigmoid\")\n",
    "])\n",
    "model.compile(optimizer=\"rmsprop\",\n",
    "              loss=\"binary_crossentropy\",\n",
    "              metrics=[\"accuracy\"])\n",
    "history_dropout = model.fit(\n",
    "    train_data, train_labels,\n",
    "    epochs=20, batch_size=512, validation_split=0.4)"
   ]
  },
  {
   "cell_type": "markdown",
   "metadata": {
    "colab_type": "text"
   },
   "source": [
    "## Summary"
   ]
  }
 ],
 "metadata": {
  "colab": {
   "collapsed_sections": [],
   "name": "chapter05_fundamentals-of-ml.i",
   "private_outputs": false,
   "provenance": [],
   "toc_visible": true
  },
  "kernelspec": {
   "display_name": "Python 3 (ipykernel)",
   "language": "python",
   "name": "python3"
  },
  "language_info": {
   "codemirror_mode": {
    "name": "ipython",
    "version": 3
   },
   "file_extension": ".py",
   "mimetype": "text/x-python",
   "name": "python",
   "nbconvert_exporter": "python",
   "pygments_lexer": "ipython3",
   "version": "3.9.7"
  }
 },
 "nbformat": 4,
 "nbformat_minor": 4
}
